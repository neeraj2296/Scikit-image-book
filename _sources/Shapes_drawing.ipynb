{
 "cells": [
  {
   "cell_type": "markdown",
   "metadata": {},
   "source": [
    "# Drawing shapes\n",
    "### Dr. Tirthajyoti Sarkar, Fremont CA 94536\n",
    "This example shows how to draw several different shapes:\n",
    "\n",
    "* line\n",
    "* Bezier curve\n",
    "* polygon\n",
    "* circle\n",
    "* ellipse\n",
    "\n",
    "Anti-aliased drawing for:\n",
    "\n",
    "* line\n",
    "* circle"
   ]
  },
  {
   "cell_type": "code",
   "execution_count": 1,
   "metadata": {},
   "outputs": [],
   "source": [
    "import math\n",
    "import numpy as np\n",
    "import matplotlib.pyplot as plt\n",
    "\n",
    "from skimage.draw import (line, polygon, circle,\n",
    "                          circle_perimeter,\n",
    "                          ellipse, ellipse_perimeter,\n",
    "                          bezier_curve)\n",
    "from skimage.draw import line_aa, circle_perimeter_aa"
   ]
  },
  {
   "cell_type": "markdown",
   "metadata": {},
   "source": [
    "### Blank canvas"
   ]
  },
  {
   "cell_type": "code",
   "execution_count": 2,
   "metadata": {},
   "outputs": [],
   "source": [
    "img = np.zeros((500, 500, 3), dtype=np.double)\n",
    "img = np.zeros((500, 500, 3))"
   ]
  },
  {
   "cell_type": "markdown",
   "metadata": {},
   "source": [
    "### Draw line"
   ]
  },
  {
   "cell_type": "code",
   "execution_count": 3,
   "metadata": {},
   "outputs": [],
   "source": [
    "rr, cc = line(120, 123, 20, 400)\n",
    "img[rr, cc, 0] = 255"
   ]
  },
  {
   "cell_type": "markdown",
   "metadata": {},
   "source": [
    "### Fill polygon"
   ]
  },
  {
   "cell_type": "code",
   "execution_count": 4,
   "metadata": {},
   "outputs": [],
   "source": [
    "poly = np.array((\n",
    "    (300, 300),\n",
    "    (480, 320),\n",
    "    (380, 430),\n",
    "    (220, 590),\n",
    "    (300, 300),\n",
    "))\n",
    "\n",
    "rr, cc = polygon(poly[:, 0], poly[:, 1], img.shape)\n",
    "img[rr, cc, 1] = 1"
   ]
  },
  {
   "cell_type": "markdown",
   "metadata": {},
   "source": [
    "### Fill circle"
   ]
  },
  {
   "cell_type": "code",
   "execution_count": 5,
   "metadata": {},
   "outputs": [],
   "source": [
    "rr, cc = circle(200, 200, 100, img.shape)\n",
    "img[rr, cc, :] = (1, 1, 0)"
   ]
  },
  {
   "cell_type": "markdown",
   "metadata": {},
   "source": [
    "### Fill ellipse"
   ]
  },
  {
   "cell_type": "code",
   "execution_count": 6,
   "metadata": {},
   "outputs": [],
   "source": [
    "rr, cc = ellipse(300, 300, 100, 200, img.shape)\n",
    "img[rr, cc, 2] = 1"
   ]
  },
  {
   "cell_type": "markdown",
   "metadata": {},
   "source": [
    "### Circle"
   ]
  },
  {
   "cell_type": "code",
   "execution_count": 7,
   "metadata": {},
   "outputs": [],
   "source": [
    "rr, cc = circle_perimeter(120, 400, 15)\n",
    "img[rr, cc, :] = (1, 0, 0)"
   ]
  },
  {
   "cell_type": "markdown",
   "metadata": {},
   "source": [
    "### Bezier curve"
   ]
  },
  {
   "cell_type": "code",
   "execution_count": 8,
   "metadata": {},
   "outputs": [],
   "source": [
    "rr, cc = bezier_curve(70, 100, 10, 10, 150, 100, 1)\n",
    "img[rr, cc, :] = (1, 0, 0)"
   ]
  },
  {
   "cell_type": "markdown",
   "metadata": {},
   "source": [
    "### Ellipses"
   ]
  },
  {
   "cell_type": "code",
   "execution_count": 9,
   "metadata": {},
   "outputs": [],
   "source": [
    "rr, cc = ellipse_perimeter(120, 400, 60, 20, orientation=math.pi / 4.)\n",
    "img[rr, cc, :] = (1, 0, 1)\n",
    "rr, cc = ellipse_perimeter(120, 400, 60, 20, orientation=-math.pi / 4.)\n",
    "img[rr, cc, :] = (0, 0, 1)\n",
    "rr, cc = ellipse_perimeter(120, 400, 60, 20, orientation=math.pi / 2.)\n",
    "img[rr, cc, :] = (1, 1, 1)"
   ]
  },
  {
   "cell_type": "code",
   "execution_count": 10,
   "metadata": {},
   "outputs": [
    {
     "name": "stderr",
     "output_type": "stream",
     "text": [
      "Clipping input data to the valid range for imshow with RGB data ([0..1] for floats or [0..255] for integers).\n"
     ]
    },
    {
     "data": {
      "image/png": "[encoded data removed]",
      "text/plain": [
       "<Figure size 432x432 with 1 Axes>"
      ]
     },
     "metadata": {},
     "output_type": "display_data"
    }
   ],
   "source": [
    "fig, ax1 = plt.subplots(ncols=1, nrows=1, figsize=(6, 6))\n",
    "ax1.imshow(img)\n",
    "ax1.set_title('Shapes',fontsize=16)\n",
    "ax1.axis('off')\n",
    "plt.show()"
   ]
  },
  {
   "cell_type": "markdown",
   "metadata": {},
   "source": [
    "### Anti-aliasing drwaing"
   ]
  },
  {
   "cell_type": "code",
   "execution_count": 11,
   "metadata": {},
   "outputs": [
    {
     "data": {
      "image/png": "[encoded data removed]",
      "text/plain": [
       "<Figure size 432x432 with 1 Axes>"
      ]
     },
     "metadata": {},
     "output_type": "display_data"
    }
   ],
   "source": [
    "img = np.zeros((100, 100), dtype=np.double)\n",
    "\n",
    "# anti-aliased line\n",
    "rr, cc, val = line_aa(12, 12, 20, 50)\n",
    "img[rr, cc] = val\n",
    "\n",
    "# anti-aliased circle\n",
    "rr, cc, val = circle_perimeter_aa(60, 40, 30)\n",
    "img[rr, cc] = val\n",
    "\n",
    "fig, ax2 = plt.subplots(ncols=1, nrows=1, figsize=(6, 6))\n",
    "ax2.imshow(img, cmap=plt.cm.gray, interpolation='nearest')\n",
    "ax2.set_title('Anti-aliasing')\n",
    "ax2.axis('off')\n",
    "\n",
    "plt.show()"
   ]
  }
 ],
 "metadata": {
  "kernelspec": {
   "display_name": "Python 3",
   "language": "python",
   "name": "python3"
  },
  "language_info": {
   "codemirror_mode": {
    "name": "ipython",
    "version": 3
   },
   "file_extension": ".py",
   "mimetype": "text/x-python",
   "name": "python",
   "nbconvert_exporter": "python",
   "pygments_lexer": "ipython3",
   "version": "3.7.0"
  },
  "latex_envs": {
   "LaTeX_envs_menu_present": true,
   "autoclose": false,
   "autocomplete": true,
   "bibliofile": "biblio.bib",
   "cite_by": "apalike",
   "current_citInitial": 1,
   "eqLabelWithNumbers": true,
   "eqNumInitial": 1,
   "hotkeys": {
    "equation": "Ctrl-E",
    "itemize": "Ctrl-I"
   },
   "labels_anchors": false,
   "latex_user_defs": false,
   "report_style_numbering": false,
   "user_envs_cfg": false
  }
 },
 "nbformat": 4,
 "nbformat_minor": 4
}
