{
 "cells": [
  {
   "cell_type": "markdown",
   "metadata": {},
   "source": [
    "# Convex Hull\n",
    "### Dr. Tirthajyoti Sarkar, Fremont CA 94536\n",
    "The convex hull of a binary image is the set of pixels included in the smallest convex polygon that surround all white pixels in the input.\n",
    "\n",
    "A good overview of the algorithm is given on [this blog](http://blogs.mathworks.com/steve/2011/10/04/binary-image-convex-hull-algorithm-notes/)."
   ]
  },
  {
   "cell_type": "code",
   "execution_count": 1,
   "metadata": {
    "execution": {
     "iopub.execute_input": "2020-08-14T05:14:14.722688Z",
     "iopub.status.busy": "2020-08-14T05:14:14.722688Z",
     "iopub.status.idle": "2020-08-14T05:14:15.473010Z",
     "shell.execute_reply": "2020-08-14T05:14:15.473010Z"
    }
   },
   "outputs": [],
   "source": [
    "import matplotlib.pyplot as plt\n",
    "\n",
    "from skimage.morphology import convex_hull_image\n",
    "from skimage import data, img_as_float\n",
    "from skimage.util import invert"
   ]
  },
  {
   "cell_type": "markdown",
   "metadata": {},
   "source": [
    "### The original image is inverted as the object must be white"
   ]
  },
  {
   "cell_type": "code",
   "execution_count": 2,
   "metadata": {
    "execution": {
     "iopub.execute_input": "2020-08-14T05:14:15.476002Z",
     "iopub.status.busy": "2020-08-14T05:14:15.476002Z",
     "iopub.status.idle": "2020-08-14T05:14:15.980684Z",
     "shell.execute_reply": "2020-08-14T05:14:15.980684Z"
    }
   },
   "outputs": [],
   "source": [
    "image = invert(data.horse())"
   ]
  },
  {
   "cell_type": "markdown",
   "metadata": {},
   "source": [
    "### Create a convex hull"
   ]
  },
  {
   "cell_type": "code",
   "execution_count": 3,
   "metadata": {
    "execution": {
     "iopub.execute_input": "2020-08-14T05:14:15.983675Z",
     "iopub.status.busy": "2020-08-14T05:14:15.982679Z",
     "iopub.status.idle": "2020-08-14T05:14:15.994612Z",
     "shell.execute_reply": "2020-08-14T05:14:15.995640Z"
    }
   },
   "outputs": [],
   "source": [
    "chull = convex_hull_image(image)"
   ]
  },
  {
   "cell_type": "markdown",
   "metadata": {},
   "source": [
    "### Show the result"
   ]
  },
  {
   "cell_type": "code",
   "execution_count": 4,
   "metadata": {
    "execution": {
     "iopub.execute_input": "2020-08-14T05:14:16.016584Z",
     "iopub.status.busy": "2020-08-14T05:14:16.010605Z",
     "iopub.status.idle": "2020-08-14T05:14:16.080412Z",
     "shell.execute_reply": "2020-08-14T05:14:16.080412Z"
    }
   },
   "outputs": [
    {
     "data": {
      "image/png": "[encoded data removed]",
      "text/plain": [
       "<Figure size 576x288 with 2 Axes>"
      ]
     },
     "metadata": {
      "filenames": {
       "image/png": "C:\\Users\\tirth\\Documents\\Personal\\Data Science related\\Python and other Notebooks\\Jupyter-Books\\Scikit-image-book\\_build\\jupyter_execute\\Convex_Hull_7_0.png"
      },
      "needs_background": "light"
     },
     "output_type": "display_data"
    }
   ],
   "source": [
    "fig, axes = plt.subplots(1, 2, figsize=(8, 4))\n",
    "ax = axes.ravel()\n",
    "\n",
    "ax[0].set_title('Original picture')\n",
    "ax[0].imshow(image, cmap=plt.cm.gray, interpolation='nearest')\n",
    "ax[0].set_axis_off()\n",
    "\n",
    "ax[1].set_title('Transformed picture - convex hull')\n",
    "ax[1].imshow(chull, cmap=plt.cm.gray, interpolation='nearest')\n",
    "ax[1].set_axis_off()\n",
    "\n",
    "plt.tight_layout()\n",
    "plt.show()"
   ]
  },
  {
   "cell_type": "markdown",
   "metadata": {},
   "source": [
    "### Showing the difference by fixing the pixel intensity on the convex hull"
   ]
  },
  {
   "cell_type": "code",
   "execution_count": 5,
   "metadata": {
    "execution": {
     "iopub.execute_input": "2020-08-14T05:14:16.083407Z",
     "iopub.status.busy": "2020-08-14T05:14:16.083407Z",
     "iopub.status.idle": "2020-08-14T05:14:16.085416Z",
     "shell.execute_reply": "2020-08-14T05:14:16.085416Z"
    }
   },
   "outputs": [],
   "source": [
    "chull_diff = img_as_float(chull.copy())\n",
    "chull_diff[image] = 2"
   ]
  },
  {
   "cell_type": "code",
   "execution_count": 6,
   "metadata": {
    "execution": {
     "iopub.execute_input": "2020-08-14T05:14:16.097337Z",
     "iopub.status.busy": "2020-08-14T05:14:16.096371Z",
     "iopub.status.idle": "2020-08-14T05:14:16.189781Z",
     "shell.execute_reply": "2020-08-14T05:14:16.189781Z"
    }
   },
   "outputs": [
    {
     "data": {
      "image/png": "[encoded data removed]",
      "text/plain": [
       "<Figure size 432x288 with 1 Axes>"
      ]
     },
     "metadata": {
      "filenames": {
       "image/png": "C:\\Users\\tirth\\Documents\\Personal\\Data Science related\\Python and other Notebooks\\Jupyter-Books\\Scikit-image-book\\_build\\jupyter_execute\\Convex_Hull_10_0.png"
      },
      "needs_background": "light"
     },
     "output_type": "display_data"
    }
   ],
   "source": [
    "fig, ax = plt.subplots()\n",
    "ax.imshow(chull_diff, cmap=plt.cm.gray, interpolation='nearest')\n",
    "ax.set_title('Difference')\n",
    "plt.show()"
   ]
  }
 ],
 "metadata": {
  "kernelspec": {
   "display_name": "Python 3",
   "language": "python",
   "name": "python3"
  },
  "language_info": {
   "codemirror_mode": {
    "name": "ipython",
    "version": 3
   },
   "file_extension": ".py",
   "mimetype": "text/x-python",
   "name": "python",
   "nbconvert_exporter": "python",
   "pygments_lexer": "ipython3",
   "version": "3.7.0"
  },
  "latex_envs": {
   "LaTeX_envs_menu_present": true,
   "autoclose": false,
   "autocomplete": true,
   "bibliofile": "biblio.bib",
   "cite_by": "apalike",
   "current_citInitial": 1,
   "eqLabelWithNumbers": true,
   "eqNumInitial": 1,
   "hotkeys": {
    "equation": "Ctrl-E",
    "itemize": "Ctrl-I"
   },
   "labels_anchors": false,
   "latex_user_defs": false,
   "report_style_numbering": false,
   "user_envs_cfg": false
  }
 },
 "nbformat": 4,
 "nbformat_minor": 2
}